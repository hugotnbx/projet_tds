import numpy as np
import sounddevice as sd
from scipy.io.wavfile import read, write
import os
def rec_sound(duree):
    fe = 44100
    son_enregistre = sd.rec(int(duree * fe), samplerate=fe, channels=1,dtype='float64')
    #pwd=os.getcwd()
    print("Recording Audio")
    sd.wait()
    print("Audio recording complete , Play Audio")
    sd.play(son_enregistre, fe)
    sd.wait()
    print("Play Audio Complete")
    write(f"/Users/0ropo/Documents/Cours/bac3/traitements de signaux/projetTDS/sons/son_enregistré.wav",fe,son_enregistre)
    return np.squeeze(son_enregistre)
