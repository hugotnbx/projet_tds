{
 "cells": [
  {
   "cell_type": "code",
   "execution_count": 14,
   "id": "c1f0c648-7306-46c2-9b05-8ee56b919c9f",
   "metadata": {},
   "outputs": [],
   "source": [
    "from numpy import fft\n",
    "import numpy as np\n",
    "import matplotlib.pyplot as plt\n",
    "import sounddevice as sd"
   ]
  },
  {
   "cell_type": "markdown",
   "id": "31085cc2-820a-4b03-96e7-35b518cca095",
   "metadata": {},
   "source": [
    "**Code pour le signal de l'hyperglycémie**"
   ]
  },
  {
   "cell_type": "code",
   "execution_count": 89,
   "id": "8ed72cdf-27a9-4d9e-a8fc-4501640295c4",
   "metadata": {},
   "outputs": [],
   "source": [
    "A = 4\n",
    "duree = 0.15\n",
    "Fe = 22000\n",
    "Te = 1 / Fe\n",
    "\n",
    "frequencies = [1312, 1410, 1500, 1619, 1722]\n",
    "\n",
    "t = np.arange(0, duree + Te, Te)\n",
    "\n",
    "signals = []\n",
    "\n",
    "for i in range(len(frequencies)):\n",
    "    signal = A * np.sin(2 * np.pi * frequencies[i] * t)  \n",
    "    signals.extend(signal)\n",
    "\n",
    "signal = np.array(signals)\n",
    "\n",
    "sd.play(signal, samplerate=Fe)"
   ]
  },
  {
   "cell_type": "markdown",
   "id": "f11fecce-bb52-4eac-a5b5-453bf4a34499",
   "metadata": {},
   "source": [
    "**Code pour le signal de l'hypoglycémie**"
   ]
  },
  {
   "cell_type": "code",
   "execution_count": 94,
   "id": "fd0598a3-ce74-47de-8ebf-7af2e1f6f0b5",
   "metadata": {},
   "outputs": [],
   "source": [
    "A = 4\n",
    "duree = 0.15\n",
    "Fe = 22000\n",
    "Te = 1 / Fe\n",
    "\n",
    "frequencies = [1722, 1619, 1500, 1410, 1312]\n",
    "\n",
    "t = np.arange(0, duree + Te, Te)\n",
    "\n",
    "signals = []\n",
    "\n",
    "for i in range(len(frequencies)):\n",
    "    signal = A * np.sin(2 * np.pi * frequencies[i] * t)  \n",
    "    signals.extend(signal)\n",
    "\n",
    "signal = np.array(signals)\n",
    "\n",
    "sd.play(signal, samplerate=Fe)"
   ]
  }
 ],
 "metadata": {
  "kernelspec": {
   "display_name": "Python 3 (ipykernel)",
   "language": "python",
   "name": "python3"
  },
  "language_info": {
   "codemirror_mode": {
    "name": "ipython",
    "version": 3
   },
   "file_extension": ".py",
   "mimetype": "text/x-python",
   "name": "python",
   "nbconvert_exporter": "python",
   "pygments_lexer": "ipython3",
   "version": "3.12.4"
  }
 },
 "nbformat": 4,
 "nbformat_minor": 5
}
